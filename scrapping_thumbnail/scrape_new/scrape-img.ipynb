{
 "cells": [
  {
   "cell_type": "markdown",
   "metadata": {},
   "source": [
    "### Ready to code?\n",
    "\n",
    "The first thing you need to do is import beautiful soup & requests like we did in the homework, and scrape the page. \n",
    "\n",
    "img links in json"
   ]
  },
  {
   "cell_type": "code",
   "execution_count": 5,
   "metadata": {},
   "outputs": [],
   "source": [
    "from selenium import webdriver\n",
    "from selenium.webdriver.common.by import By\n",
    "from selenium.webdriver.chrome.service import Service\n",
    "from webdriver_manager.chrome import ChromeDriverManager\n",
    "from bs4 import BeautifulSoup\n",
    "import json"
   ]
  },
  {
   "cell_type": "code",
   "execution_count": 7,
   "metadata": {},
   "outputs": [
    {
     "name": "stdout",
     "output_type": "stream",
     "text": [
      "['https://collections.nmnh.si.edu/media/?i=12859286&ph=yes&thumb=yes']\n"
     ]
    }
   ],
   "source": [
    "# Set up the Selenium WebDriver\n",
    "driver = webdriver.Chrome(service=Service(ChromeDriverManager().install()))\n",
    "\n",
    "# Open the URL\n",
    "url = \"http://n2t.net/ark:/65665/31e51552e-d0cb-4593-b01e-46d70e22194b\"\n",
    "driver.get(url)\n",
    "\n",
    "# Get the HTML content\n",
    "html_content = driver.page_source\n",
    "\n",
    "# Parse the HTML content with BeautifulSoup\n",
    "soup = BeautifulSoup(html_content, 'html.parser')\n",
    "\n",
    "# Find all image tags with the class \"ws-gallery-image\"\n",
    "img_tags = soup.find_all(\"img\", class_=\"ws-gallery-image\")\n",
    "\n",
    "# Base URL for constructing full image URLs\n",
    "base_url = \"https://collections.nmnh.si.edu\"\n",
    "\n",
    "# Extract the src attribute and construct full URLs\n",
    "img_links = [base_url + img['src'] for img in img_tags]\n",
    "\n",
    "# Remove \"&ph=yes&thumb=yes\" from the end of each link\n",
    "#img_links = [link.replace(\"&ph=yes&thumb=yes\", \"\") for #link in img_links]\n",
    "\n",
    "# Print the image links\n",
    "print(img_links)\n",
    "\n",
    "# Close the WebDriver\n",
    "driver.quit()\n"
   ]
  },
  {
   "cell_type": "markdown",
   "metadata": {},
   "source": [
    "automatic with links in json"
   ]
  },
  {
   "cell_type": "code",
   "execution_count": 46,
   "metadata": {},
   "outputs": [
    {
     "name": "stdout",
     "output_type": "stream",
     "text": [
      "Thumbnails updated successfully.\n"
     ]
    }
   ],
   "source": [
    "from selenium import webdriver\n",
    "from selenium.webdriver.common.by import By\n",
    "from selenium.webdriver.chrome.service import Service\n",
    "from selenium.webdriver.support.ui import WebDriverWait\n",
    "from selenium.webdriver.support import expected_conditions as EC\n",
    "from webdriver_manager.chrome import ChromeDriverManager\n",
    "from bs4 import BeautifulSoup\n",
    "import json\n",
    "\n",
    "# Load the data from img.json\n",
    "with open('img.json', 'r') as f:\n",
    "    data = json.load(f)\n",
    "\n",
    "# Set up the Selenium WebDriver\n",
    "driver = webdriver.Chrome(service=Service(ChromeDriverManager().install()))\n",
    "\n",
    "# Base URL for constructing full image URLs\n",
    "base_url = \"https://collections.nmnh.si.edu\"\n",
    "\n",
    "#done from 1-18, 19-50, 51-300, 301-1000, 1001-2000, 2001-3000, 3001-4000, 4001-5000, 5001-7000, 7001-9000, 9001-11000, 11001-12015, 12016-12019   /   out of 12020\n",
    "# Iterate through the data list\n",
    "for record in data[12016:12019]:\n",
    "    try:\n",
    "        url = record['record_link']\n",
    "        driver.get(url)\n",
    "        \n",
    "        # Wait for the image tag to be present\n",
    "        WebDriverWait(driver, 10).until(EC.presence_of_element_located((By.CLASS_NAME, \"ws-gallery-image\")))\n",
    "        \n",
    "        # Get the HTML content\n",
    "        html_content = driver.page_source\n",
    "        \n",
    "        # Parse the HTML content with BeautifulSoup\n",
    "        soup = BeautifulSoup(html_content, 'html.parser')\n",
    "        \n",
    "        # Find the image tag with the class \"ws-gallery-image\"\n",
    "        img_tag = soup.find(\"img\", class_=\"ws-gallery-image\")\n",
    "        \n",
    "        if img_tag:\n",
    "            # Construct the full URL for the thumbnail\n",
    "            thumbnail_url = base_url + img_tag['src']\n",
    "            record['thumbnail'] = thumbnail_url\n",
    "        else:\n",
    "            print(f\"No image found for {url}\")\n",
    "    except Exception as e:\n",
    "        print(f\"Error processing {url}: {e}\")\n",
    "\n",
    "# Close the WebDriver\n",
    "driver.quit()\n",
    "\n",
    "# Save the updated data back to img.json\n",
    "with open('img.json', 'w') as f:\n",
    "    json.dump(data, f, indent=4)\n",
    "\n",
    "print(\"Thumbnails updated successfully.\")"
   ]
  },
  {
   "cell_type": "code",
   "execution_count": 47,
   "metadata": {},
   "outputs": [
    {
     "name": "stdout",
     "output_type": "stream",
     "text": [
      "Thumbnails updated successfully.\n"
     ]
    }
   ],
   "source": [
    "# Define the parameters to remove\n",
    "params_to_remove = [\"ph\", \"thumb\"]\n",
    "\n",
    "# Remove \"&ph=yes&thumb=yes\" from the end of each link under thumbnail in img.json\n",
    "for record in data:\n",
    "    if 'thumbnail' in record and record['thumbnail'] != 'N/A':\n",
    "        for param in params_to_remove:\n",
    "            record['thumbnail'] = record['thumbnail'].replace(f\"&{param}=yes\", \"\")\n",
    "\n",
    "# Save the updated data back to img.json\n",
    "with open('img.json', 'w') as f:\n",
    "    json.dump(data, f, indent=4)\n",
    "\n",
    "print(\"Thumbnails updated successfully.\")\n",
    "\n",
    "#automate, then manually enter all \"N/A\" later"
   ]
  }
 ],
 "metadata": {
  "kernelspec": {
   "display_name": "Python 3",
   "language": "python",
   "name": "python3"
  },
  "language_info": {
   "codemirror_mode": {
    "name": "ipython",
    "version": 3
   },
   "file_extension": ".py",
   "mimetype": "text/x-python",
   "name": "python",
   "nbconvert_exporter": "python",
   "pygments_lexer": "ipython3",
   "version": "3.12.5"
  }
 },
 "nbformat": 4,
 "nbformat_minor": 4
}
